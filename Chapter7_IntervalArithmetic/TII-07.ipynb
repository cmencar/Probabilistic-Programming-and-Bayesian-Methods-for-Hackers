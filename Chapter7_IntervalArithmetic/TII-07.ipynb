{
 "cells": [
  {
   "cell_type": "markdown",
   "metadata": {},
   "source": [
    "# Interval arithmetic"
   ]
  },
  {
   "cell_type": "markdown",
   "metadata": {},
   "source": [
    "We will work with [PyInterval](https://pyinterval.readthedocs.io/en/latest/index.html). To install PyInterval in Anaconda, use:\n",
    "\n",
    "```bash\n",
    "conda install -c conda-forge pyinterval\n",
    "```"
   ]
  },
  {
   "cell_type": "markdown",
   "metadata": {},
   "source": [
    "## Some motivating examples"
   ]
  },
  {
   "cell_type": "markdown",
   "metadata": {},
   "source": [
    "### A recursion formula"
   ]
  },
  {
   "cell_type": "markdown",
   "metadata": {},
   "source": [
    "Consider the recursion formula\n",
    "$$x_{n+1} = x_n^2$$ ($n = 0, 1, 2, \\ldots$), and suppose that $x_0 = 1 − 10^{−21}$. We seek $x_{75}$."
   ]
  },
  {
   "cell_type": "markdown",
   "metadata": {},
   "source": [
    "Can we compute $x_{75}$ with standard floating point arithmetic?"
   ]
  },
  {
   "cell_type": "code",
   "execution_count": 1,
   "metadata": {},
   "outputs": [
    {
     "name": "stdout",
     "output_type": "stream",
     "text": [
      "x[0]=1.0, x[1]=1.0, ..., x[75]=1.0\n"
     ]
    }
   ],
   "source": [
    "x = [1-10**(-21)]\n",
    "for _ in range(75):\n",
    "    x += [x[-1]**2]\n",
    "    \n",
    "print(f'x[0]={x[0]}, x[1]={x[1]}, ..., x[75]={x[75]}')"
   ]
  },
  {
   "cell_type": "markdown",
   "metadata": {},
   "source": [
    "Performing the computation with 10-place arithmetic, we obtain the approximate values."
   ]
  },
  {
   "cell_type": "code",
   "execution_count": 2,
   "metadata": {},
   "outputs": [],
   "source": [
    "import decimal as dec\n",
    "dec.getcontext().prec = 10"
   ]
  },
  {
   "cell_type": "code",
   "execution_count": 3,
   "metadata": {},
   "outputs": [],
   "source": [
    "x = [1-dec.Decimal(10)**(-21)]\n",
    "for _ in range(75):\n",
    "    x += [x[-1]**2]\n",
    "    "
   ]
  },
  {
   "cell_type": "code",
   "execution_count": 4,
   "metadata": {},
   "outputs": [
    {
     "name": "stdout",
     "output_type": "stream",
     "text": [
      "x[0]=0.999999999999999999999, x[1]=0.9999999999999999999980000000, ..., x[75]=3.915780683799750301999125205E-17\n"
     ]
    }
   ],
   "source": [
    "print(f'x[0]={x[0]}, x[1]={x[1]}, ..., x[75]={x[75]}')"
   ]
  },
  {
   "cell_type": "code",
   "execution_count": 5,
   "metadata": {},
   "outputs": [
    {
     "name": "stdout",
     "output_type": "stream",
     "text": [
      "x[0]=1.0000000000000000000, x[1]=1.0000000000000000000, ..., x[75]=1.0000000000000000000\n"
     ]
    }
   ],
   "source": [
    "dec.getcontext().prec = 20\n",
    "\n",
    "x = [1-dec.Decimal(10)**(-21)]\n",
    "for _ in range(75):\n",
    "    x += [x[-1]**2]\n",
    "    \n",
    "print(f'x[0]={x[0]}, x[1]={x[1]}, ..., x[75]={x[75]}')"
   ]
  },
  {
   "cell_type": "code",
   "execution_count": 6,
   "metadata": {},
   "outputs": [
    {
     "name": "stdout",
     "output_type": "stream",
     "text": [
      "x[0]=0.999999999999999999999, x[1]=0.999999999999999999998000000000, ..., x[75]=3.91578068379999471438826301494E-17\n"
     ]
    }
   ],
   "source": [
    "dec.getcontext().prec = 30\n",
    "\n",
    "x = [1-dec.Decimal(10)**(-21)]\n",
    "for _ in range(75):\n",
    "    x += [x[-1]**2]\n",
    "    \n",
    "print(f'x[0]={x[0]}, x[1]={x[1]}, ..., x[75]={x[75]}')"
   ]
  },
  {
   "cell_type": "markdown",
   "metadata": {},
   "source": [
    "### Function evaluation"
   ]
  },
  {
   "cell_type": "markdown",
   "metadata": {},
   "source": [
    "Evaluate the following function:\n",
    "$$f = 333.75b^6 + a^2(11a^2b^2-b^6-121b^4-2)+5.5b^8+a/(2b)$$\n",
    "with $a=77617.0$ and $b=33096.0$."
   ]
  },
  {
   "cell_type": "code",
   "execution_count": 7,
   "metadata": {
    "scrolled": true
   },
   "outputs": [
    {
     "ename": "NameError",
     "evalue": "name 'f' is not defined",
     "output_type": "error",
     "traceback": [
      "\u001b[0;31m---------------------------------------------------------------------------\u001b[0m",
      "\u001b[0;31mNameError\u001b[0m                                 Traceback (most recent call last)",
      "\u001b[0;32m<ipython-input-7-62c93256b925>\u001b[0m in \u001b[0;36m<module>\u001b[0;34m\u001b[0m\n\u001b[1;32m      5\u001b[0m \u001b[0;32mfor\u001b[0m \u001b[0mp\u001b[0m \u001b[0;32min\u001b[0m \u001b[0mrange\u001b[0m\u001b[0;34m(\u001b[0m\u001b[0;36m1\u001b[0m\u001b[0;34m,\u001b[0m\u001b[0;36m70\u001b[0m\u001b[0;34m,\u001b[0m\u001b[0;36m5\u001b[0m\u001b[0;34m)\u001b[0m\u001b[0;34m:\u001b[0m\u001b[0;34m\u001b[0m\u001b[0;34m\u001b[0m\u001b[0m\n\u001b[1;32m      6\u001b[0m     \u001b[0mdec\u001b[0m\u001b[0;34m.\u001b[0m\u001b[0mgetcontext\u001b[0m\u001b[0;34m(\u001b[0m\u001b[0;34m)\u001b[0m\u001b[0;34m.\u001b[0m\u001b[0mprec\u001b[0m \u001b[0;34m=\u001b[0m \u001b[0mp\u001b[0m\u001b[0;34m\u001b[0m\u001b[0;34m\u001b[0m\u001b[0m\n\u001b[0;32m----> 7\u001b[0;31m     \u001b[0mfs\u001b[0m\u001b[0;34m[\u001b[0m\u001b[0mp\u001b[0m\u001b[0;34m]\u001b[0m \u001b[0;34m=\u001b[0m \u001b[0mf\u001b[0m\u001b[0;34m(\u001b[0m\u001b[0ma\u001b[0m\u001b[0;34m,\u001b[0m\u001b[0mb\u001b[0m\u001b[0;34m)\u001b[0m\u001b[0;34m\u001b[0m\u001b[0;34m\u001b[0m\u001b[0m\n\u001b[0m\u001b[1;32m      8\u001b[0m     \u001b[0mprint\u001b[0m\u001b[0;34m(\u001b[0m\u001b[0;34mf\"precision = {p}: f = {fs[p]}\"\u001b[0m\u001b[0;34m)\u001b[0m\u001b[0;34m\u001b[0m\u001b[0;34m\u001b[0m\u001b[0m\n\u001b[1;32m      9\u001b[0m \u001b[0;34m\u001b[0m\u001b[0m\n",
      "\u001b[0;31mNameError\u001b[0m: name 'f' is not defined"
     ]
    }
   ],
   "source": [
    "a = dec.Decimal(77617)\n",
    "b = dec.Decimal(33096)\n",
    "\n",
    "fs = {}\n",
    "for p in range(1,70,5):\n",
    "    dec.getcontext().prec = p\n",
    "    fs[p] = f(a,b)\n",
    "    print(f\"precision = {p}: f = {fs[p]}\")\n",
    "    "
   ]
  },
  {
   "cell_type": "markdown",
   "metadata": {},
   "source": [
    "What happens with floating point arithmetic?"
   ]
  },
  {
   "cell_type": "code",
   "execution_count": 8,
   "metadata": {},
   "outputs": [],
   "source": [
    "f = lambda a,b: 333.75*(b**6) +\\\n",
    "                (a**2)*(11*(a**2)*(b**2)-(b**6)-121*(b**4)-2)+\\\n",
    "                5.5*(b**8)+a/(2*b)"
   ]
  },
  {
   "cell_type": "code",
   "execution_count": 9,
   "metadata": {},
   "outputs": [],
   "source": [
    "a = 77617.0\n",
    "b = 33096.0"
   ]
  },
  {
   "cell_type": "code",
   "execution_count": 10,
   "metadata": {},
   "outputs": [
    {
     "data": {
      "text/plain": [
       "-1.1805916207174113e+21"
      ]
     },
     "execution_count": 10,
     "metadata": {},
     "output_type": "execute_result"
    }
   ],
   "source": [
    "f(a,b)"
   ]
  },
  {
   "cell_type": "markdown",
   "metadata": {},
   "source": [
    "There are cases that no finite precision gives acceptable results:"
   ]
  },
  {
   "cell_type": "code",
   "execution_count": 11,
   "metadata": {},
   "outputs": [
    {
     "data": {
      "text/plain": [
       "False"
      ]
     },
     "execution_count": 11,
     "metadata": {},
     "output_type": "execute_result"
    }
   ],
   "source": [
    "from math import sin, acos\n",
    "\n",
    "sin(2*acos(0))==0"
   ]
  },
  {
   "cell_type": "markdown",
   "metadata": {},
   "source": [
    "- In many cases it is true that by carrying enough places a result of arbitrarily high accuracy can be found in any computation involving only a finite number of real arithmetic operations beginning with exactly known real numbers. \n",
    "- However, it is often prohibitively difficult to tell in advance of a computation how many places must be carried to guarantee results of required accuracy"
   ]
  },
  {
   "cell_type": "markdown",
   "metadata": {},
   "source": [
    "> These and other problems arise because any finite precision number is an imprecise representation of a real number."
   ]
  },
  {
   "cell_type": "markdown",
   "metadata": {},
   "source": [
    "## The interval Number System"
   ]
  },
  {
   "cell_type": "markdown",
   "metadata": {},
   "source": [
    "We focus on closed intervals only. A (closed) interval is a set:\n",
    "$$[a,b] = \\{x \\in \\mathbb{R}: a \\leq x \\leq b\\}$$"
   ]
  },
  {
   "cell_type": "markdown",
   "metadata": {},
   "source": [
    "### Intervals in PyInterval"
   ]
  },
  {
   "cell_type": "code",
   "execution_count": 12,
   "metadata": {},
   "outputs": [],
   "source": [
    "from interval import interval"
   ]
  },
  {
   "cell_type": "markdown",
   "metadata": {},
   "source": [
    "Intervals are immutable objects that can be created by specifying their connected components:"
   ]
  },
  {
   "cell_type": "code",
   "execution_count": 13,
   "metadata": {},
   "outputs": [
    {
     "data": {
      "text/plain": [
       "interval([0.0, 1.0], [2.0, 3.0], [10.0, 15.0])"
      ]
     },
     "execution_count": 13,
     "metadata": {},
     "output_type": "execute_result"
    }
   ],
   "source": [
    "k = interval([0, 1], [2, 3], [10, 15])\n",
    "k"
   ]
  },
  {
   "cell_type": "code",
   "execution_count": 14,
   "metadata": {},
   "outputs": [
    {
     "data": {
      "text/plain": [
       "interval([1.0, 2.0])"
      ]
     },
     "execution_count": 14,
     "metadata": {},
     "output_type": "execute_result"
    }
   ],
   "source": [
    "interval[1, 2]"
   ]
  },
  {
   "cell_type": "markdown",
   "metadata": {},
   "source": [
    "represents the mathematical interval [1, 2], not be confused with the union of the one-point intervals {1} and {2}:"
   ]
  },
  {
   "cell_type": "code",
   "execution_count": 15,
   "metadata": {
    "scrolled": true
   },
   "outputs": [
    {
     "data": {
      "text/plain": [
       "interval([1.0], [2.0])"
      ]
     },
     "execution_count": 15,
     "metadata": {},
     "output_type": "execute_result"
    }
   ],
   "source": [
    "interval(1,2)"
   ]
  },
  {
   "cell_type": "markdown",
   "metadata": {},
   "source": [
    "An interval consisting of only one number can be instantiated with either forms:"
   ]
  },
  {
   "cell_type": "code",
   "execution_count": 16,
   "metadata": {},
   "outputs": [
    {
     "data": {
      "text/plain": [
       "(interval([1.0]), interval([1.0]))"
      ]
     },
     "execution_count": 16,
     "metadata": {},
     "output_type": "execute_result"
    }
   ],
   "source": [
    "interval(1), interval[1]"
   ]
  },
  {
   "cell_type": "markdown",
   "metadata": {},
   "source": [
    "An empty interval has no components:"
   ]
  },
  {
   "cell_type": "code",
   "execution_count": 17,
   "metadata": {},
   "outputs": [
    {
     "data": {
      "text/plain": [
       "interval()"
      ]
     },
     "execution_count": 17,
     "metadata": {},
     "output_type": "execute_result"
    }
   ],
   "source": [
    "interval()"
   ]
  },
  {
   "cell_type": "code",
   "execution_count": 22,
   "metadata": {},
   "outputs": [
    {
     "data": {
      "text/plain": [
       "0"
      ]
     },
     "execution_count": 22,
     "metadata": {},
     "output_type": "execute_result"
    }
   ],
   "source": [
    "len(interval())"
   ]
  },
  {
   "cell_type": "code",
   "execution_count": 23,
   "metadata": {},
   "outputs": [
    {
     "data": {
      "text/plain": [
       "1"
      ]
     },
     "execution_count": 23,
     "metadata": {},
     "output_type": "execute_result"
    }
   ],
   "source": [
    "len(interval[1, 2])"
   ]
  },
  {
   "cell_type": "code",
   "execution_count": 24,
   "metadata": {},
   "outputs": [
    {
     "data": {
      "text/plain": [
       "2"
      ]
     },
     "execution_count": 24,
     "metadata": {},
     "output_type": "execute_result"
    }
   ],
   "source": [
    "len(interval(1, 2))"
   ]
  },
  {
   "cell_type": "code",
   "execution_count": 25,
   "metadata": {},
   "outputs": [
    {
     "data": {
      "text/plain": [
       "[(1.0, 2.0), (3.0, 3.0)]"
      ]
     },
     "execution_count": 25,
     "metadata": {},
     "output_type": "execute_result"
    }
   ],
   "source": [
    "[x for x in interval([1, 2], 3)]"
   ]
  },
  {
   "cell_type": "code",
   "execution_count": 26,
   "metadata": {},
   "outputs": [
    {
     "data": {
      "text/plain": [
       "[interval([1.0, 2.0]), interval([3.0])]"
      ]
     },
     "execution_count": 26,
     "metadata": {},
     "output_type": "execute_result"
    }
   ],
   "source": [
    "[x for x in interval([1, 2], 3).components]"
   ]
  },
  {
   "cell_type": "markdown",
   "metadata": {},
   "source": [
    "### Endpoints\n",
    "Endpoints are denoted as:\n",
    "$$X=[\\underline{X}, \\overline{X}]$$"
   ]
  },
  {
   "cell_type": "markdown",
   "metadata": {},
   "source": [
    "Two intervals are equal if they have the same endpoints:\n",
    "$$X=Y \\Leftrightarrow \\underline{X}=\\underline{Y} \\wedge \\overline{X}=\\overline{Y}$$"
   ]
  },
  {
   "cell_type": "code",
   "execution_count": 27,
   "metadata": {},
   "outputs": [],
   "source": [
    "x = interval([1, 2], 3)"
   ]
  },
  {
   "cell_type": "code",
   "execution_count": 28,
   "metadata": {},
   "outputs": [
    {
     "data": {
      "text/plain": [
       "1.0"
      ]
     },
     "execution_count": 28,
     "metadata": {},
     "output_type": "execute_result"
    }
   ],
   "source": [
    "x[0].inf"
   ]
  },
  {
   "cell_type": "code",
   "execution_count": 29,
   "metadata": {},
   "outputs": [
    {
     "data": {
      "text/plain": [
       "3.0"
      ]
     },
     "execution_count": 29,
     "metadata": {},
     "output_type": "execute_result"
    }
   ],
   "source": [
    "x[1].sup"
   ]
  },
  {
   "cell_type": "code",
   "execution_count": 30,
   "metadata": {},
   "outputs": [
    {
     "data": {
      "text/plain": [
       "interval([1.0], [2.0], [3.0])"
      ]
     },
     "execution_count": 30,
     "metadata": {},
     "output_type": "execute_result"
    }
   ],
   "source": [
    "interval([1, 2], 3).extrema"
   ]
  },
  {
   "cell_type": "code",
   "execution_count": 31,
   "metadata": {},
   "outputs": [
    {
     "data": {
      "text/plain": [
       "True"
      ]
     },
     "execution_count": 31,
     "metadata": {},
     "output_type": "execute_result"
    }
   ],
   "source": [
    "interval[1,2] == interval([1,2])"
   ]
  },
  {
   "cell_type": "markdown",
   "metadata": {},
   "source": [
    "#### Degenerate intervals\n",
    "$$x = [x,x]$$"
   ]
  },
  {
   "cell_type": "code",
   "execution_count": 32,
   "metadata": {},
   "outputs": [
    {
     "data": {
      "text/plain": [
       "False"
      ]
     },
     "execution_count": 32,
     "metadata": {},
     "output_type": "execute_result"
    }
   ],
   "source": [
    "#warning!\n",
    "0 == interval[0,0]"
   ]
  },
  {
   "cell_type": "markdown",
   "metadata": {},
   "source": [
    "### Set operations on intervals"
   ]
  },
  {
   "cell_type": "code",
   "execution_count": 33,
   "metadata": {},
   "outputs": [
    {
     "data": {
      "text/plain": [
       "interval([2.0, 4.0])"
      ]
     },
     "execution_count": 33,
     "metadata": {},
     "output_type": "execute_result"
    }
   ],
   "source": [
    "# intersection\n",
    "interval[1, 4] & interval[2, 5]"
   ]
  },
  {
   "cell_type": "code",
   "execution_count": 34,
   "metadata": {
    "scrolled": false
   },
   "outputs": [
    {
     "data": {
      "text/plain": [
       "interval([1.0, 5.0])"
      ]
     },
     "execution_count": 34,
     "metadata": {},
     "output_type": "execute_result"
    }
   ],
   "source": [
    "# union\n",
    "interval[1, 4] | interval[2, 5]"
   ]
  },
  {
   "cell_type": "markdown",
   "metadata": {},
   "source": [
    "In general, the union of the two intervals is not an interval"
   ]
  },
  {
   "cell_type": "code",
   "execution_count": 35,
   "metadata": {},
   "outputs": [
    {
     "data": {
      "text/plain": [
       "interval([1.0, 2.0], [4.0, 5.0])"
      ]
     },
     "execution_count": 35,
     "metadata": {},
     "output_type": "execute_result"
    }
   ],
   "source": [
    "interval[1, 2] | interval[4, 5]"
   ]
  },
  {
   "cell_type": "markdown",
   "metadata": {},
   "source": [
    "However, a *interval hull* is always an interval"
   ]
  },
  {
   "cell_type": "code",
   "execution_count": 36,
   "metadata": {},
   "outputs": [
    {
     "data": {
      "text/plain": [
       "interval([1.0, 5.0])"
      ]
     },
     "execution_count": 36,
     "metadata": {},
     "output_type": "execute_result"
    }
   ],
   "source": [
    "interval.hull((interval[1,2], interval[4,5]))"
   ]
  },
  {
   "cell_type": "markdown",
   "metadata": {},
   "source": [
    "> Information is lost when we replace classical union with interval hull, but the latter is easier to work with, and the lost information is sometimes not critical."
   ]
  },
  {
   "cell_type": "code",
   "execution_count": 18,
   "metadata": {},
   "outputs": [
    {
     "data": {
      "text/plain": [
       "True"
      ]
     },
     "execution_count": 18,
     "metadata": {},
     "output_type": "execute_result"
    }
   ],
   "source": [
    "0 in interval[-1, 1]"
   ]
  },
  {
   "cell_type": "code",
   "execution_count": 19,
   "metadata": {},
   "outputs": [
    {
     "data": {
      "text/plain": [
       "False"
      ]
     },
     "execution_count": 19,
     "metadata": {},
     "output_type": "execute_result"
    }
   ],
   "source": [
    "0 in interval[1, 2]"
   ]
  },
  {
   "cell_type": "code",
   "execution_count": 20,
   "metadata": {},
   "outputs": [
    {
     "data": {
      "text/plain": [
       "True"
      ]
     },
     "execution_count": 20,
     "metadata": {},
     "output_type": "execute_result"
    }
   ],
   "source": [
    "interval[1, 2] in interval[0, 3]"
   ]
  },
  {
   "cell_type": "code",
   "execution_count": 21,
   "metadata": {},
   "outputs": [
    {
     "data": {
      "text/plain": [
       "False"
      ]
     },
     "execution_count": 21,
     "metadata": {},
     "output_type": "execute_result"
    }
   ],
   "source": [
    "interval[1, 2] in interval[1.5, 3]"
   ]
  },
  {
   "cell_type": "markdown",
   "metadata": {},
   "source": [
    "#### Importance of intersection\n",
    "\n",
    "If we have two intervals containing a result of interest, then the intersection, which may be narrower, also contains the result."
   ]
  },
  {
   "cell_type": "markdown",
   "metadata": {},
   "source": [
    "**Example.** \n",
    "Suppose two people make independent measurements of the same physical quantity $q$. One finds that $q = 10.3$ with a measurement error less than 0.2. The other finds that $q = 10.4$ with an error less than 0.2. We can represent these measurements as the intervals $X = [10.1, 10.5]$ and $Y = [10.2, 10.6]$, respectively. Since $q$ lies in both, it also lies in $X \\cap Y = [10.2, 10.5]$. An empty intersection would imply that at least one of the measurements is wrong"
   ]
  },
  {
   "cell_type": "markdown",
   "metadata": {},
   "source": [
    "### Measures of intervals"
   ]
  },
  {
   "cell_type": "markdown",
   "metadata": {},
   "source": [
    "#### Width"
   ]
  },
  {
   "cell_type": "code",
   "execution_count": 40,
   "metadata": {},
   "outputs": [],
   "source": [
    "def width(ic):\n",
    "    return ic.sup - ic.inf"
   ]
  },
  {
   "cell_type": "code",
   "execution_count": 41,
   "metadata": {},
   "outputs": [
    {
     "data": {
      "text/plain": [
       "5.0"
      ]
     },
     "execution_count": 41,
     "metadata": {},
     "output_type": "execute_result"
    }
   ],
   "source": [
    "x = interval([-2, 3])\n",
    "width(x[0])"
   ]
  },
  {
   "cell_type": "markdown",
   "metadata": {},
   "source": [
    "#### Absolute value"
   ]
  },
  {
   "cell_type": "code",
   "execution_count": 43,
   "metadata": {},
   "outputs": [],
   "source": [
    "def abs_val(ic):\n",
    "    return max(abs(ic.inf), abs(ic.sup))"
   ]
  },
  {
   "cell_type": "code",
   "execution_count": 44,
   "metadata": {},
   "outputs": [
    {
     "data": {
      "text/plain": [
       "3.0"
      ]
     },
     "execution_count": 44,
     "metadata": {},
     "output_type": "execute_result"
    }
   ],
   "source": [
    "abs_val(x[0])"
   ]
  },
  {
   "cell_type": "markdown",
   "metadata": {},
   "source": [
    "#### Midpoint"
   ]
  },
  {
   "cell_type": "code",
   "execution_count": 45,
   "metadata": {},
   "outputs": [
    {
     "data": {
      "text/plain": [
       "interval([1.5], [3.0])"
      ]
     },
     "execution_count": 45,
     "metadata": {},
     "output_type": "execute_result"
    }
   ],
   "source": [
    "interval([1, 2], 3).midpoint"
   ]
  },
  {
   "cell_type": "markdown",
   "metadata": {},
   "source": [
    "### Extending component functions"
   ]
  },
  {
   "cell_type": "code",
   "execution_count": 52,
   "metadata": {},
   "outputs": [],
   "source": [
    "@interval.function\n",
    "def width(ic):\n",
    "    return interval(ic.sup - ic.inf)"
   ]
  },
  {
   "cell_type": "code",
   "execution_count": 53,
   "metadata": {},
   "outputs": [
    {
     "data": {
      "text/plain": [
       "interval([5.0])"
      ]
     },
     "execution_count": 53,
     "metadata": {},
     "output_type": "execute_result"
    }
   ],
   "source": [
    "width(x)"
   ]
  },
  {
   "cell_type": "code",
   "execution_count": 55,
   "metadata": {},
   "outputs": [],
   "source": [
    "@interval.function\n",
    "def abs_val(ic):\n",
    "    return interval(max(abs(ic.inf), abs(ic.sup)))"
   ]
  },
  {
   "cell_type": "code",
   "execution_count": 56,
   "metadata": {},
   "outputs": [
    {
     "data": {
      "text/plain": [
       "interval([3.0])"
      ]
     },
     "execution_count": 56,
     "metadata": {},
     "output_type": "execute_result"
    }
   ],
   "source": [
    "abs_val(x)"
   ]
  },
  {
   "cell_type": "code",
   "execution_count": 57,
   "metadata": {},
   "outputs": [
    {
     "data": {
      "text/plain": [
       "interval([-3.0], [-2.0, -1.0])"
      ]
     },
     "execution_count": 57,
     "metadata": {},
     "output_type": "execute_result"
    }
   ],
   "source": [
    "@interval.function\n",
    "def reverse(c):\n",
    "    return interval[-c.sup, -c.inf]\n",
    "\n",
    "reverse(interval([1, 2], 3))"
   ]
  },
  {
   "cell_type": "code",
   "execution_count": 60,
   "metadata": {},
   "outputs": [],
   "source": [
    "@interval.function\n",
    "def mirror(c):\n",
    "    return interval[-c.sup, -c.inf] | interval(c)"
   ]
  },
  {
   "cell_type": "code",
   "execution_count": 61,
   "metadata": {},
   "outputs": [
    {
     "data": {
      "text/plain": [
       "interval([-3.0], [-2.0, -1.0], [1.0, 2.0], [3.0])"
      ]
     },
     "execution_count": 61,
     "metadata": {},
     "output_type": "execute_result"
    }
   ],
   "source": [
    "mirror(interval([1, 2], 3))"
   ]
  },
  {
   "cell_type": "markdown",
   "metadata": {},
   "source": [
    "### Order relations\n",
    "\n",
    "- different possible definitions.\n",
    "\n",
    "Standard definition: $X < Y$ means $\\overline{X} < \\underline{Y}$"
   ]
  },
  {
   "cell_type": "markdown",
   "metadata": {},
   "source": [
    "In PyInterval: $X < Y$ means $\\underline{X} < \\underline{Y}$"
   ]
  },
  {
   "cell_type": "code",
   "execution_count": 57,
   "metadata": {},
   "outputs": [
    {
     "data": {
      "text/plain": [
       "True"
      ]
     },
     "execution_count": 57,
     "metadata": {},
     "output_type": "execute_result"
    }
   ],
   "source": [
    "x = interval[1,2]\n",
    "y = interval[3,4]\n",
    "\n",
    "x < y"
   ]
  },
  {
   "cell_type": "code",
   "execution_count": 60,
   "metadata": {},
   "outputs": [
    {
     "data": {
      "text/plain": [
       "False"
      ]
     },
     "execution_count": 60,
     "metadata": {},
     "output_type": "execute_result"
    }
   ],
   "source": [
    "x = interval[3.5,5]\n",
    "y = interval[3,4]\n",
    "\n",
    "x < y"
   ]
  },
  {
   "cell_type": "code",
   "execution_count": 61,
   "metadata": {},
   "outputs": [
    {
     "data": {
      "text/plain": [
       "False"
      ]
     },
     "execution_count": 61,
     "metadata": {},
     "output_type": "execute_result"
    }
   ],
   "source": [
    "x = interval[3,5]\n",
    "y = interval[3,4]\n",
    "\n",
    "x < y"
   ]
  },
  {
   "cell_type": "markdown",
   "metadata": {},
   "source": [
    "## Operations with intervals"
   ]
  },
  {
   "cell_type": "markdown",
   "metadata": {},
   "source": [
    "### Sum\n",
    "\n",
    "$X+Y = \\{x+y: x\\in X, y \\in Y\\} = [\\underline{X}+\\underline{Y}, \\overline{X}+\\overline{Y}]$"
   ]
  },
  {
   "cell_type": "code",
   "execution_count": 62,
   "metadata": {},
   "outputs": [
    {
     "data": {
      "text/plain": [
       "interval([-1.0, 3.0])"
      ]
     },
     "execution_count": 62,
     "metadata": {},
     "output_type": "execute_result"
    }
   ],
   "source": [
    "interval[0, 2] + interval[-1, 1]"
   ]
  },
  {
   "cell_type": "markdown",
   "metadata": {},
   "source": [
    "### Scalar multiplication\n",
    "\n",
    "$c\\cdot X = \\{c\\cdot x: x \\in X\\} =$\n",
    "- $[c\\underline{X}, c\\overline{X}]$ if $c\\geq 0$\n",
    "- $[c\\overline{X}, c\\underline{X}]$ if $c< 0$"
   ]
  },
  {
   "cell_type": "code",
   "execution_count": 63,
   "metadata": {},
   "outputs": [
    {
     "data": {
      "text/plain": [
       "interval([-4.0, 6.0])"
      ]
     },
     "execution_count": 63,
     "metadata": {},
     "output_type": "execute_result"
    }
   ],
   "source": [
    "2*interval([-2, 3])"
   ]
  },
  {
   "cell_type": "code",
   "execution_count": 64,
   "metadata": {},
   "outputs": [
    {
     "data": {
      "text/plain": [
       "interval([-6.0, 4.0])"
      ]
     },
     "execution_count": 64,
     "metadata": {},
     "output_type": "execute_result"
    }
   ],
   "source": [
    "-2*interval([-2,3])"
   ]
  },
  {
   "cell_type": "markdown",
   "metadata": {},
   "source": [
    "### Subtraction\n",
    "\n",
    "$X-Y = X+ (-1)\\cdot Y = [\\underline{X}-\\overline{Y}, \\overline{X}-\\underline{Y}]$"
   ]
  },
  {
   "cell_type": "code",
   "execution_count": 9,
   "metadata": {},
   "outputs": [
    {
     "data": {
      "text/plain": [
       "interval([3.0, 6.0])"
      ]
     },
     "execution_count": 9,
     "metadata": {},
     "output_type": "execute_result"
    }
   ],
   "source": [
    "interval[5, 7] - interval[1, 2]"
   ]
  },
  {
   "cell_type": "code",
   "execution_count": 65,
   "metadata": {},
   "outputs": [
    {
     "data": {
      "text/plain": [
       "interval([3.0, 6.0])"
      ]
     },
     "execution_count": 65,
     "metadata": {},
     "output_type": "execute_result"
    }
   ],
   "source": [
    "interval[5, 7] + (-1) * interval[1, 2]"
   ]
  },
  {
   "cell_type": "code",
   "execution_count": 66,
   "metadata": {},
   "outputs": [
    {
     "data": {
      "text/plain": [
       "interval([-2.0, 2.0])"
      ]
     },
     "execution_count": 66,
     "metadata": {},
     "output_type": "execute_result"
    }
   ],
   "source": [
    "interval[5, 7] - interval[5,7]"
   ]
  },
  {
   "cell_type": "markdown",
   "metadata": {},
   "source": [
    "In general, $X-X \\neq 0$. Why?"
   ]
  },
  {
   "cell_type": "markdown",
   "metadata": {},
   "source": [
    "### Multiplication\n",
    "\n",
    "$XY = [\\min S, \\max S]$ where $S=\\{\\underline{X}\\underline{Y}, \\underline{X}\\overline{Y}, \\overline{X}\\underline{Y} ,\\overline{X}\\overline{Y}\\}$"
   ]
  },
  {
   "cell_type": "code",
   "execution_count": 67,
   "metadata": {},
   "outputs": [
    {
     "data": {
      "text/plain": [
       "interval([-6.0, 6.0])"
      ]
     },
     "execution_count": 67,
     "metadata": {},
     "output_type": "execute_result"
    }
   ],
   "source": [
    "interval[3,2] * interval[-2,2]"
   ]
  },
  {
   "cell_type": "code",
   "execution_count": 69,
   "metadata": {},
   "outputs": [
    {
     "data": {
      "text/plain": [
       "interval([0.0])"
      ]
     },
     "execution_count": 69,
     "metadata": {},
     "output_type": "execute_result"
    }
   ],
   "source": [
    "interval[2,3] * interval[0]"
   ]
  },
  {
   "cell_type": "code",
   "execution_count": 10,
   "metadata": {},
   "outputs": [],
   "source": [
    "from interval import inf"
   ]
  },
  {
   "cell_type": "code",
   "execution_count": 14,
   "metadata": {
    "scrolled": true
   },
   "outputs": [
    {
     "data": {
      "text/plain": [
       "interval([-inf, inf])"
      ]
     },
     "execution_count": 14,
     "metadata": {},
     "output_type": "execute_result"
    }
   ],
   "source": [
    "interval[0, 2] * interval[4, inf]"
   ]
  },
  {
   "cell_type": "markdown",
   "metadata": {},
   "source": [
    "### Reciprocal\n",
    "\n",
    "$1/X = \\left[1/\\overline{X}, 1/\\underline{X}\\right]$ provided that $0 \\notin X$"
   ]
  },
  {
   "cell_type": "code",
   "execution_count": 70,
   "metadata": {
    "scrolled": true
   },
   "outputs": [
    {
     "data": {
      "text/plain": [
       "interval([0.3333333333333333, 0.5])"
      ]
     },
     "execution_count": 70,
     "metadata": {},
     "output_type": "execute_result"
    }
   ],
   "source": [
    "1/interval[2,3]"
   ]
  },
  {
   "cell_type": "code",
   "execution_count": 71,
   "metadata": {},
   "outputs": [
    {
     "data": {
      "text/plain": [
       "interval([-inf, -1.0], [1.0, inf])"
      ]
     },
     "execution_count": 71,
     "metadata": {},
     "output_type": "execute_result"
    }
   ],
   "source": [
    "1/interval[-1,1]"
   ]
  },
  {
   "cell_type": "markdown",
   "metadata": {},
   "source": [
    "### Division\n",
    "\n",
    "$X/Y = X * (1/Y)$ provided that $0 \\notin Y$"
   ]
  },
  {
   "cell_type": "code",
   "execution_count": 72,
   "metadata": {},
   "outputs": [
    {
     "data": {
      "text/plain": [
       "interval([-2.0, -0.3333333333333333])"
      ]
     },
     "execution_count": 72,
     "metadata": {},
     "output_type": "execute_result"
    }
   ],
   "source": [
    "interval[1, 4] / interval[-3, -2]"
   ]
  },
  {
   "cell_type": "code",
   "execution_count": 73,
   "metadata": {
    "scrolled": true
   },
   "outputs": [
    {
     "data": {
      "text/plain": [
       "interval([-inf, -0.3333333333333333], [0.3333333333333333, inf])"
      ]
     },
     "execution_count": 73,
     "metadata": {},
     "output_type": "execute_result"
    }
   ],
   "source": [
    "interval[1, 4] / interval[-3, 3]"
   ]
  },
  {
   "cell_type": "markdown",
   "metadata": {},
   "source": [
    "## Examples"
   ]
  },
  {
   "cell_type": "markdown",
   "metadata": {},
   "source": [
    "### Area of an imprecise rectangle\n",
    "\n",
    "- Suppose we wish to calculate the area a of a rectangle from direct measurements of its side lengths $l$ and $w$. \n",
    "- Use of a standard meter stick shows that $l$ equals 1 m to within an uncertainty of 0.0005 m (i.e., to within half the least count measurement of 1 mm)."
   ]
  },
  {
   "cell_type": "markdown",
   "metadata": {},
   "source": [
    "Since\n",
    "$$0.9995 ≤ l ≤ 1.0005$$\n",
    "we construct an interval $L = [0.9995, 1.0005]$ to represent this side length."
   ]
  },
  {
   "cell_type": "markdown",
   "metadata": {},
   "source": [
    "- Measuring again, we find that $w = 2$ (nominally). Hence, the remaining side should be represented by the interval $W = [1.9995, 2.0005]$."
   ]
  },
  {
   "cell_type": "markdown",
   "metadata": {},
   "source": [
    "$$\n",
    "\\begin{aligned}\n",
    "  A = L · W \\\\\n",
    "    = [0.9995, 1.0005] · [1.9995, 2.0005]\\\\\n",
    "    = [0.9995 · 1.9995 , 1.0005 · 2.0005]\\\\\n",
    "    = [1.99850025 , 2.00150025] \\textrm{m}^2\n",
    "\\end{aligned}\n",
    "$$"
   ]
  },
  {
   "cell_type": "markdown",
   "metadata": {},
   "source": [
    "- Suppose it is not necessary to know the final answer to eight places. \n",
    "- We are therefore tempted to round off the endpoints of $A$. \n",
    "- This is indeed possible, but we must be careful because the true value a of the product $lw$ can fall anywhere within the interval that is specified exactly by $LW$. "
   ]
  },
  {
   "cell_type": "markdown",
   "metadata": {},
   "source": [
    "- Suppose the true value of $a$ is $a = 1.99850026$ m².\n",
    "-  if we were to round the endpoints of $A$ both *upward* by one digit to obtain $A' = [1.9985003 , 2.0015003]$ m²\n",
    "- this new interval $A'$ would not contain the actual value!"
   ]
  },
  {
   "cell_type": "markdown",
   "metadata": {},
   "source": [
    "- we will apply *outward rounding*: we will round in such a way that the left endpoint moves to the left (on the number line) and the right endpoint moves to the right. \n",
    "- The resulting interval contains the one we started with and hence still has a as a member. \n",
    "- In the present example, we could round outwardly to the nearest square millimeter and obtain the interval $A'' = [1.998, 2.002]$ m²."
   ]
  },
  {
   "cell_type": "markdown",
   "metadata": {},
   "source": [
    "##### Exercise\n",
    "The dimensions of a rectangular box are measured as $w = 7.2 ± 0.1$, $l = 14.9 ± 0.1$, and $h = 405.6 ± 0.2$. Find several intervals containing the volume of the box."
   ]
  },
  {
   "cell_type": "markdown",
   "metadata": {},
   "source": [
    "### Dependency effect"
   ]
  },
  {
   "cell_type": "code",
   "execution_count": 78,
   "metadata": {},
   "outputs": [
    {
     "name": "stdout",
     "output_type": "stream",
     "text": [
      "x·x-2x   =  interval([-6.0, 6.0])\n",
      "x²-2x    =  interval([-4.0, 6.0])\n",
      "x·(x-2)  =  interval([-6.0, 3.0])\n",
      "(x-1)²-1 =  interval([-1.0, 3.0])\n"
     ]
    }
   ],
   "source": [
    "x = interval[-1, 2]\n",
    "print(\"x·x-2x   = \", x*x - 2*x)\n",
    "print(\"x²-2x    = \", x**2 - 2*x)\n",
    "print(\"x·(x-2)  = \", x*(x-2))\n",
    "print(\"(x-1)²-1 = \", (x-1)**2-1)"
   ]
  },
  {
   "cell_type": "markdown",
   "metadata": {},
   "source": [
    "## Properties of interval arithmetic"
   ]
  },
  {
   "cell_type": "markdown",
   "metadata": {},
   "source": [
    "### Commutativity \n",
    "\n",
    "- $X+Y=Y+X$\n",
    "- $XY = YX$"
   ]
  },
  {
   "cell_type": "markdown",
   "metadata": {},
   "source": [
    "### Associativity\n",
    "\n",
    "- $X + (Y+Z) = (X+Y)+Z$\n",
    "- $X(YZ)=(XY)Z$"
   ]
  },
  {
   "cell_type": "markdown",
   "metadata": {},
   "source": [
    "### Identity elements\n",
    "\n",
    "- $0+X=X+0=X$\n",
    "- $1·X=X·1=X$\n",
    "- $0·X=X·0=0$"
   ]
  },
  {
   "cell_type": "markdown",
   "metadata": {},
   "source": [
    "### Nonexistence of inverse elements\n",
    "\n",
    "- $X-X = [\\underline{X}-\\overline{X}, \\overline{X}-\\underline{X}]$\n",
    "- $X/X = [\\underline{X}/\\overline{X}, \\overline{X}/\\underline{X}]$ if $\\underline{X}>0$, $[\\overline{X}/\\underline{X},\\underline{X}/\\overline{X}]$ if $\\overline{X}<0$, undefined otherwise."
   ]
  },
  {
   "cell_type": "markdown",
   "metadata": {},
   "source": [
    "### Subdistributivity\n",
    "\n",
    "- $X(Y+Z) \\subseteq XY+XZ$"
   ]
  },
  {
   "cell_type": "markdown",
   "metadata": {},
   "source": [
    "### Cancellation law\n",
    "\n",
    "- $X+Z=Y+Z \\Rightarrow X=Y$\n",
    "\n",
    "but\n",
    "\n",
    "- $ZX=ZY \\nRightarrow X=Y$"
   ]
  },
  {
   "cell_type": "markdown",
   "metadata": {},
   "source": [
    "## Interval functions"
   ]
  },
  {
   "cell_type": "markdown",
   "metadata": {},
   "source": [
    "### Extension principle"
   ]
  },
  {
   "cell_type": "markdown",
   "metadata": {},
   "source": [
    "Let $U$ and $V$ be two sets and $f : U \\mapsto V$ a function.\n",
    "Let $A \\subseteq U$, then the *image* of $A$ under $f$ is given by \n",
    "$$ f(A) = \\{f(x) | x \\in A\\}$$"
   ]
  },
  {
   "cell_type": "markdown",
   "metadata": {},
   "source": [
    "It is possible to extend the concept of image to binary relations."
   ]
  },
  {
   "cell_type": "markdown",
   "metadata": {},
   "source": [
    "Let $U$ and $V$ be two sets and $R \\subseteq U \\times V$ a relation. Let $A \\subseteq U$, then the composition of $A$ and $R$ is defined as:\n",
    "$$ A \\circ R = \\{y \\in V | \\exists x : x\\in A \\wedge xRy\\}$$"
   ]
  },
  {
   "cell_type": "markdown",
   "metadata": {},
   "source": [
    "Since any function $f$ is a particular relation between $U$ and $V$, then the image of a function derived from the composition operator:\n",
    "$$A \\circ f = \\{y \\in V | \\exists x: x\\in A \\wedge xfy \\}$$\n",
    "$$= \\{y \\in Y | \\exists x: x\\in A \\wedge y=f(x) \\}$$\n",
    "$$= \\{f(x) | x\\in A \\} = f(A)$$"
   ]
  },
  {
   "cell_type": "markdown",
   "metadata": {},
   "source": [
    "The *united extension* of a function $f$ to intervals $X$ is\n",
    "$$f(X)=\\left[\\min\\{f(x):x\\in X\\}, \\max\\{f(x):x\\in X\\}\\right]$$\n",
    "when the definition makes sense."
   ]
  },
  {
   "cell_type": "markdown",
   "metadata": {},
   "source": [
    "### Square\n",
    "\n",
    "$$X^2 = \\{x^2:x \\in X\\}$$, i.e.\n",
    "$$\n",
    "X^{2}=\\begin{cases}\n",
    "\\left[\\underline{X}^{2},\\overline{X}^{2}\\right] & 0\\leq\\underline{X},\\\\\n",
    "\\left[\\overline{X}^{2},\\underline{X}^{2}\\right] & \\overline{X}\\leq0,\\\\\n",
    "\\left[0,\\max\\left\\{ \\overline{X}^{2},\\underline{X}^{2}\\right\\} \\right] & 0\\in X\n",
    "\\end{cases}\n",
    "$$"
   ]
  },
  {
   "cell_type": "markdown",
   "metadata": {},
   "source": [
    "In general, $X^2 \\subseteq X·X$"
   ]
  },
  {
   "cell_type": "markdown",
   "metadata": {},
   "source": [
    "> *Interval dependency* is a crucial consideration when using interval computations. It is a major reason why simply replacing floating point computations by intervals in an existing algorithm is not likely to lead to satisfactory results"
   ]
  },
  {
   "cell_type": "markdown",
   "metadata": {},
   "source": [
    "### Monotonic functions\n",
    "\n",
    "If $f$ is an increasing function, then\n",
    "$$f(X)=[f(\\underline{X}), f(\\overline{X})]$$"
   ]
  },
  {
   "cell_type": "markdown",
   "metadata": {},
   "source": [
    "![example](monotonic.png)"
   ]
  },
  {
   "cell_type": "code",
   "execution_count": 25,
   "metadata": {},
   "outputs": [],
   "source": [
    "from interval import imath"
   ]
  },
  {
   "cell_type": "code",
   "execution_count": 26,
   "metadata": {},
   "outputs": [
    {
     "data": {
      "text/plain": [
       "interval([1.0, 2.7182818284590455])"
      ]
     },
     "execution_count": 26,
     "metadata": {},
     "output_type": "execute_result"
    }
   ],
   "source": [
    "imath.exp(interval[0, 1])"
   ]
  },
  {
   "cell_type": "markdown",
   "metadata": {},
   "source": [
    "Similar arguments apply for decreasing functions."
   ]
  },
  {
   "cell_type": "markdown",
   "metadata": {},
   "source": [
    "### Interval extension of functions\n",
    "\n",
    "A function $F$ is an *interval extension* of $f$ if, for all $x$:\n",
    "$$F([x,x])=f(x)$$"
   ]
  },
  {
   "cell_type": "markdown",
   "metadata": {},
   "source": [
    "- Interval extensions are not unique. Two different functions $F'$ and $F''$ can be interval extensions of the same function $f$.\n",
    "- For example, $F(X)=X^2-2X$ and $G(X)=X·(X-2)$ are interval extensions of $f(x)=x^2-2x$ but, in general $F(X)\\neq G(X)\\neq f(X)$"
   ]
  },
  {
   "cell_type": "markdown",
   "metadata": {},
   "source": [
    "- The united extension coincides with an interval extension where each argument occurs only once in the definition\n",
    "\n",
    "$$H(X)=\\frac{1}{4}-\\left(X-\\frac{1}{2}\\right)^2=f(X)$$"
   ]
  },
  {
   "cell_type": "markdown",
   "metadata": {},
   "source": [
    "#### Fundamental Theorem of Interval Analysis\n",
    "\n",
    "$$f(X) \\subseteq F(X)$$"
   ]
  },
  {
   "cell_type": "code",
   "execution_count": null,
   "metadata": {},
   "outputs": [],
   "source": []
  }
 ],
 "metadata": {
  "kernelspec": {
   "display_name": "Python 3",
   "language": "python",
   "name": "python3"
  },
  "language_info": {
   "codemirror_mode": {
    "name": "ipython",
    "version": 3
   },
   "file_extension": ".py",
   "mimetype": "text/x-python",
   "name": "python",
   "nbconvert_exporter": "python",
   "pygments_lexer": "ipython3",
   "version": "3.7.7"
  },
  "nbTranslate": {
   "displayLangs": [
    "it",
    "en"
   ],
   "hotkey": "alt-t",
   "langInMainMenu": true,
   "sourceLang": "en",
   "targetLang": "it",
   "useGoogleTranslate": true
  },
  "toc": {
   "base_numbering": 1,
   "nav_menu": {},
   "number_sections": true,
   "sideBar": true,
   "skip_h1_title": false,
   "title_cell": "Table of Contents",
   "title_sidebar": "Contents",
   "toc_cell": false,
   "toc_position": {},
   "toc_section_display": true,
   "toc_window_display": false
  },
  "varInspector": {
   "cols": {
    "lenName": 16,
    "lenType": 16,
    "lenVar": 40
   },
   "kernels_config": {
    "python": {
     "delete_cmd_postfix": "",
     "delete_cmd_prefix": "del ",
     "library": "var_list.py",
     "varRefreshCmd": "print(var_dic_list())"
    },
    "r": {
     "delete_cmd_postfix": ") ",
     "delete_cmd_prefix": "rm(",
     "library": "var_list.r",
     "varRefreshCmd": "cat(var_dic_list()) "
    }
   },
   "types_to_exclude": [
    "module",
    "function",
    "builtin_function_or_method",
    "instance",
    "_Feature"
   ],
   "window_display": false
  }
 },
 "nbformat": 4,
 "nbformat_minor": 4
}
